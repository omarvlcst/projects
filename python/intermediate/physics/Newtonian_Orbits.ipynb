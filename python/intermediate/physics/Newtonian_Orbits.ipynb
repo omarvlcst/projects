{
 "cells": [
  {
   "cell_type": "markdown",
   "metadata": {},
   "source": [
    "<H1>Numerical Integration of Particle Orbits in Newtonian Gravity</H1>"
   ]
  },
  {
   "cell_type": "code",
   "execution_count": 1,
   "metadata": {},
   "outputs": [],
   "source": [
    "import numpy as np\n",
    "import matplotlib.pyplot as plt\n",
    "from math import sqrt,pi"
   ]
  },
  {
   "cell_type": "code",
   "execution_count": 2,
   "metadata": {},
   "outputs": [],
   "source": [
    "# Initialize some generaic constants:\n",
    "T = 1.\n",
    "N = 100\n",
    "h = T/N"
   ]
  },
  {
   "cell_type": "markdown",
   "metadata": {},
   "source": [
    "<H2>Theoretical Bases</H2>"
   ]
  },
  {
   "cell_type": "code",
   "execution_count": null,
   "metadata": {},
   "outputs": [],
   "source": []
  },
  {
   "cell_type": "markdown",
   "metadata": {},
   "source": [
    "Some references:\n",
    "<BR>\n",
    "- <A href=\"leapfrog.pdf\">The leapfrog method and other symplectic algorithms for integrating Newton's laws of motion</A>, by P. Young\n",
    "<BR>\n",
    "- <A href=\"http://www.artcompsci.org/kali/vol/two_body_problem_2/title.html\">The 2-body Problem: Higher Order Integrators</A>, by P. Hut and J. Makino."
   ]
  },
  {
   "cell_type": "markdown",
   "metadata": {},
   "source": [
    "<H2>Newtonian Gravity</H2>"
   ]
  },
  {
   "cell_type": "code",
   "execution_count": 3,
   "metadata": {},
   "outputs": [],
   "source": [
    "def F(x,y,z=0.):\n",
    "    d=np.sqrt(x**2+y**2+z**2)\n",
    "    Fx = -GM*x/d**3\n",
    "    Fy = -GM*y/d**3\n",
    "    Fz = -GM*z/d**3\n",
    "    return Fx, Fy, Fz\n",
    "\n",
    "def Pot(x,y,z=0.):\n",
    "    d=np.sqrt(x**2+y**2+z**2)\n",
    "    return -GM/d"
   ]
  },
  {
   "cell_type": "markdown",
   "metadata": {},
   "source": [
    "<H2>Euler and Euler-Cromer Algorithms</H2>"
   ]
  },
  {
   "cell_type": "markdown",
   "metadata": {},
   "source": [
    "For solving the equation of motion:\n",
    "$$\n",
    "\\frac{dx}{dt} = v\n",
    "\\\\\n",
    "\\frac{dv}{dt} = F(x)\n",
    "$$"
   ]
  },
  {
   "cell_type": "markdown",
   "metadata": {},
   "source": [
    "<H3>Euler (or forward Euler) algorithm</H3>\n",
    "$$\n",
    "x_{n+1} = x_n + hv_n\n",
    "\\\\\n",
    "v_{n+1} = v_n +hF(x_n)\n",
    "$$\n",
    "Comparison to the Taylor series shows the error is ${\\cal O}(h^2)$ and thus integration over a time $T$ requiring $T/h$ steps gives an error ${\\cal O}(h^2) \\cdot (T/h) = {\\cal O}(h)$, <I>Euler is a first order method</I>."
   ]
  },
  {
   "cell_type": "markdown",
   "metadata": {},
   "source": [
    "<H3>Euler-Cromer (or backward Euler) algorithm</H3>\n",
    "$$\n",
    "x_{n+1} = x_n + hv_n\n",
    "\\\\\n",
    "v_{n+1} = v_n +hF(x_{n+1})\n",
    "$$\n",
    "Comparison to the Taylor series shows the error is ${\\cal O}(h^2)$ and thus integration over a time $T$ requiring $T/h$ steps gives an error ${\\cal O}(h^2) \\cdot (T/h) = {\\cal O}(h)$, <I>Euler-Cromer is a first order method</I> but being <I>implicit</I> (because of the use of $x_{n+1}$ in the evaluation of $F(x)$) it is more stable than Euler."
   ]
  },
  {
   "cell_type": "code",
   "execution_count": 4,
   "metadata": {},
   "outputs": [],
   "source": [
    "# Forward Euler:\n",
    "def Euler_1(x0,vx0,y0,vy0,z0,vz0,N=N,h=h):\n",
    "    x = np.zeros((3,N))\n",
    "    v = np.zeros((3,N))\n",
    "    x[:,0] = [x0,y0,z0]\n",
    "    v[:,0] = [vx0,vy0,vz0]\n",
    "    for i in range(0,N-1):\n",
    "        x[:,i+1] = x[:,i]  + h * v[:,i]\n",
    "        FF  = np.array(F(x[0,i],x[1,i],x[2,i]))\n",
    "        v[:,i+1] = v[:,i] + h * FF[:]\n",
    "    return x[0,:],v[0,:],x[1,:],v[1,:],x[2,:],v[2,:]"
   ]
  },
  {
   "cell_type": "code",
   "execution_count": 5,
   "metadata": {},
   "outputs": [],
   "source": [
    "# Backward Euler:\n",
    "def Euler_2(x0,vx0,y0,vy0,z0,vz0,N=N,h=h):\n",
    "    x = np.zeros((3,N))\n",
    "    v = np.zeros((3,N))\n",
    "    x[:,0] = [x0,y0,z0]\n",
    "    v[:,0] = [vx0,vy0,vz0]\n",
    "    for i in range(0,N-1):\n",
    "        x[:,i+1] = x[:,i]  + h * v[:,i]\n",
    "        FF  = np.array(F(x[0,i+1],x[1,i+1],x[2,i+1]))\n",
    "        v[:,i+1] = v[:,i] + h * FF[:]\n",
    "    return x[0,:],v[0,:],x[1,:],v[1,:],x[2,:],v[2,:]"
   ]
  },
  {
   "cell_type": "markdown",
   "metadata": {},
   "source": [
    "<H2>Verlet Algorithm (or Mid-Point or Second-Order Runge-Kutta algorithm)</H2>"
   ]
  },
  {
   "cell_type": "markdown",
   "metadata": {},
   "source": [
    "De acuerdo con lo que vimos en clase (y se sacó del PDF de Leap-frog y Verlet), este es el algoritmo para el Verlet de velocidades:\n",
    "\n",
    "$$v_{n+1/2} = v_n + \\frac{1}{2}hF(x_n)$$\n",
    "\n",
    "$$x_{n+1} = x_n + hv_{n+1/2}$$\n",
    "\n",
    "Aquí nos interesaría resolver la dinámica newtoniana del problema gravitacional:\n",
    "\n",
    "$$\\ddot{\\vec{r}}=-\\frac{GM\\vec{r}}{\\vert\\vec{r}\\vert^3} \\; ,$$ \n",
    "\n",
    "es decir:\n",
    "\n",
    "$$\\ddot{x}=-\\frac{GMx}{\\vert\\vec{r}\\vert^3}$$\n",
    "\n",
    "$$\\ddot{y}=-\\frac{GMy}{\\vert\\vec{r}\\vert^3}$$"
   ]
  },
  {
   "cell_type": "code",
   "execution_count": 36,
   "metadata": {},
   "outputs": [],
   "source": [
    "def Verlet_1(x0,vx0,y0,vy0,z0,vz0,N=N,h=h):\n",
    "    # This is the \"Velocity Verlet\" algorithm:\n",
    "    x = np.zeros((3,N))\n",
    "    v = np.zeros((3,N))\n",
    "    x[:,0] = [x0,y0,z0]\n",
    "    v[:,0] = [vx0,vy0,vz0]\n",
    "    FF  = np.array(F(x[0,0],x[1,0],x[2,0]))\n",
    "    for i in range(0,N-1):\n",
    "        # These are the v[i+1/2]:\n",
    "        # they use the forces from previous step, i.e., at F(x_i):\n",
    "        V = v[:,i] + 0.5 * h * FF\n",
    "        x[:,i+1] = x[:,i] + h * V\n",
    "        FF  = np.array(F(x[0,i+1],x[1,i+1],x[2,i+1]))\n",
    "        v[:,i+1] = V + 0.5 * h * FF[:] \n",
    "    return x[0,:],v[0,:],x[1,:],v[1,:],x[2,:],v[2,:]"
   ]
  },
  {
   "cell_type": "markdown",
   "metadata": {},
   "source": [
    "<H2>4<SUP>th</SUP> Order Runge-Kutta Algorithm</H2>"
   ]
  },
  {
   "cell_type": "markdown",
   "metadata": {},
   "source": [
    "$$\n",
    "x^{(0)} = x_i\n",
    "\\\\\n",
    "F^{(0)} = F\\left(x^{(0)}\\right)\n",
    "\\\\\n",
    "x^{(1/2)} = x_i + \\frac{\\Delta t}{2} v_i + \\frac{1}{2} \\left(\\frac{\\Delta t}{2}\\right)^2 F^0\n",
    "\\\\\n",
    "F^{(1/2)} = F\\left(x^{(1/2)}\\right)\n",
    "\\\\\n",
    "x^{(1)} = x_i + \\Delta t \\, v_i + \\frac{1}{2} (\\Delta t)^2 F^1\n",
    "\\\\\n",
    "F^{(1)} = F\\left(x^{(1)}\\right)\n",
    "$$\n",
    "and\n",
    "$$\n",
    "x_{i+1} = x_i + \\Delta t \\, v_i + \\frac{1}{2}(\\Delta t)^2 \\left(\\frac{1}{3}F^{(0)} + \\frac{2}{3}F^{(1/2)} \\right)\n",
    "\\\\\n",
    "v_{i+1} = v_i + \\Delta t \\left(\\frac{1}{6} F^{(0)} + \\frac{4}{6} F^{(1/2)} + \\frac{1}{6} F^{(2)}\\right) \n",
    "$$"
   ]
  },
  {
   "cell_type": "code",
   "execution_count": 7,
   "metadata": {},
   "outputs": [],
   "source": [
    "def RungeKutta(x0,vx0,y0,vy0,z0,vz0,N=N,h=h):\n",
    "    # This is the classical \"Runge-Kutta\" algorithm:\n",
    "    x = np.zeros((3,N))\n",
    "    v = np.zeros((3,N))\n",
    "    x[:,0] = [x0,y0,z0]\n",
    "    v[:,0] = [vx0,vy0,vz0]\n",
    "    FF  = np.array(F(x[0,0],x[1,0],x[2,0]))\n",
    "    for i in range(0,N-1):\n",
    "        x0 = x[:,i]\n",
    "        V  = v[:,i]\n",
    "        F0 = np.array(F(x0[0],x0[1],x0[2]))\n",
    "        x1 = x0 + 1./2. * h*V + 1./8. * h**2*F0\n",
    "        F1 = np.array(F(x1[0],x1[1],x1[2]))\n",
    "        x2 = x0 + 1.0   * h*V + 1./2. * h**2*F1\n",
    "        F2 = np.array(F(x2[0],x2[1],x2[2]))\n",
    "        x[:,i+1] = x0 + h*V + (1./6.) * h**2*(F0+2*F1)\n",
    "        v[:,i+1] = V + 1./6. * h *(F0+4.*F1+F2)\n",
    "    return x[0,:],v[0,:],x[1,:],v[1,:],x[2,:],v[2,:]"
   ]
  },
  {
   "cell_type": "markdown",
   "metadata": {},
   "source": [
    "<H2>4<SUP>th</SUP> Order Yoshida Algorithm</H2>"
   ]
  },
  {
   "cell_type": "markdown",
   "metadata": {},
   "source": [
    "$$\n",
    "x^1 = x_i + \\Delta t \\, c_1 \\, v_i\n",
    "\\\\\n",
    "v^1 = v_i + \\Delta t \\, d_1 \\, F(x^1)\n",
    "\\\\\n",
    "x^2 = x^1 + \\Delta t \\, c_2 \\, v^1\n",
    "\\\\\n",
    "v^2 = v^1 + \\Delta t \\, d_2 \\, F(x^2)\n",
    "\\\\\n",
    "x^3 = x^2 + \\Delta t \\, c_3 \\, v^2\n",
    "\\\\\n",
    "v^3 = v^2 + \\Delta t \\, d_3 \\, F(x^3)\n",
    "\\\\\n",
    "x^4 = x^3 + \\Delta t \\, c_4 \\, v^3\n",
    "$$\n",
    "and finally:\n",
    "$$\n",
    "x_{i+1} = x^4\n",
    "\\\\\n",
    "v_{i+1} = v^3\n",
    "$$"
   ]
  },
  {
   "cell_type": "code",
   "execution_count": 8,
   "metadata": {},
   "outputs": [
    {
     "name": "stdout",
     "output_type": "stream",
     "text": [
      "Sum of the ci = 1.0\n",
      "Sum of the di = 1.0\n"
     ]
    }
   ],
   "source": [
    "w1 = 1/(2.-np.cbrt(2.))\n",
    "w0 = -np.cbrt(2.)*w1\n",
    "c1, c2, c3, c4 = w1/2., w0/2.+w1/2., w0/2.+w1/2., w1/2.\n",
    "d1, d2, d3 = w1, w0, w1\n",
    "print('Sum of the ci =',c1+c2+c3+c4)\n",
    "print('Sum of the di =',d1+d2+d3)\n",
    "\n",
    "def Yoshida(x0,vx0,y0,vy0,z0,vz0,N=N,h=h):\n",
    "    # This is the \"Yoshida\" algorithm:\n",
    "    x = np.zeros((3,N))\n",
    "    v = np.zeros((3,N))\n",
    "    x[:,0] = [x0,y0,z0]\n",
    "    v[:,0] = [vx0,vy0,vz0]\n",
    "    FF  = np.array(F(x[0,0],x[1,0],x[2,0]))\n",
    "    for i in range(0,N-1):\n",
    "        x0 = x[:,i]\n",
    "        v0 = v[:,i]\n",
    "        x1 = x0 + c1 * h*v0\n",
    "        F1 = np.array(F(x1[0],x1[1],x1[2]))\n",
    "        v1 = v0 + d1 * h*F1\n",
    "        x2 = x1 + c2 * h*v1\n",
    "        F2 = np.array(F(x2[0],x2[1],x2[2]))\n",
    "        v2 = v1 + d2 * h*F2\n",
    "        x3 = x2 + c3 * h*v2\n",
    "        F3 = np.array(F(x3[0],x3[1],x3[2]))\n",
    "        v3 = v2 + d3 * h*F3\n",
    "        x4 = x3 + c4 * h*v3\n",
    "        x[:,i+1] = x4\n",
    "        v[:,i+1] = v3\n",
    "    return x[0,:],v[0,:],x[1,:],v[1,:],x[2,:],v[2,:]"
   ]
  },
  {
   "cell_type": "markdown",
   "metadata": {},
   "source": [
    "<H2>Define the Trajectory Class</H2>"
   ]
  },
  {
   "cell_type": "code",
   "execution_count": 9,
   "metadata": {},
   "outputs": [],
   "source": [
    "import numpy as np\n",
    "\n",
    "METHODS = [ Euler_1,         Euler_2,         Verlet_1,        \\\n",
    "                    Yoshida,             RungeKutta]\n",
    "methods = ['Euler_1',       'Euler_2',       'Verlet_1',        \\\n",
    "                   'Yoshida',           'RungeKutta']\n",
    "Methods = ['Forward Euler', 'Backward Euler', 'Velocity Verlet', \\\n",
    "                   '4th-order Yoshida', '4th-order Runge-Kutta']\n",
    "        \n",
    "class Trajectory():\n",
    "    \"\"\"A particle trajectory with all its parameters and properties nicely stored\"\"\"\n",
    "    \n",
    "    def __init__(self, method, x0, vx0, y0, vy0, z0, vz0, N, h):\n",
    "        if method not in methods:\n",
    "            print('Error: method must be one of:', methods)\n",
    "            self.im         = 10000\n",
    "            self.method     = ''\n",
    "            self.Method     = ''\n",
    "            self.METHOD     = ''\n",
    "            self.r_initial  = 0\n",
    "            self.v_initial  = 0\n",
    "            self.N          = 0\n",
    "            self.h          = 0\n",
    "            self.Run        = 0\n",
    "            self.comment('Error: method ' + method + ' not recognized')\n",
    "        else:\n",
    "            self.im         = methods.index(method)\n",
    "            self.method     = methods[self.im]\n",
    "            self.Method     = Methods[self.im]\n",
    "            self.METHOD     = METHODS[self.im]\n",
    "            self.r_initial  = np.array([x0,  y0,  z0])\n",
    "            self.v_initial  = np.array([vx0, vy0, vz0])\n",
    "            self.N          = N\n",
    "            self.h          = h\n",
    "            self.Run        = 0\n",
    "            self.comment()\n",
    "    \n",
    "    def comment(self, Text='No comment'):\n",
    "        self.Comment = Text\n",
    "    \n",
    "    def info(self):\n",
    "        if self.Run == 1:\n",
    "            print('Method used:',self.Method)\n",
    "            print('Number of steps and step size =', self.N, self.h)\n",
    "            print('Initial position =', self.r_initial)\n",
    "            print('Initial velocity =', self.v_initial)\n",
    "            print('Final position   =', [self.x[self.N-1],  self.y[self.N-1],  self.z[self.N-1]])\n",
    "            print('Final velocity   =', [self.vx[self.N-1], self.vy[self.N-1], self.vz[self.N-1]])\n",
    "        else:\n",
    "            print('Trajectory has not yet been run !')\n",
    "        \n",
    "    def run(self):\n",
    "        if self.im < 10000:\n",
    "            #print('Let''s go !')\n",
    "            self.x, self.vx, self.y, self.vy, self.z, self.vz = \\\n",
    "                self.METHOD(self.r_initial[0], self.v_initial[0], \\\n",
    "                            self.r_initial[1], self.v_initial[1], \\\n",
    "                            self.r_initial[2], self.v_initial[2], \\\n",
    "                            self.N, self.h)\n",
    "            self.Run        = 1\n",
    "            #print('... Done, using', self.Method)\n",
    "            # Trajectory's Energy and Angular Momentum:\n",
    "            self.Energy = self.energy()\n",
    "            self.Spin   = self.spin()\n",
    "        else:\n",
    "            print('Method un-defined !')\n",
    "\n",
    "    def energy(self):\n",
    "        if self.Run == 0:\n",
    "            print('Energy: first run the model !')\n",
    "        else:\n",
    "            Epot = np.zeros(self.N)\n",
    "            Ekin = np.zeros(self.N)\n",
    "            for i in range(self.N):\n",
    "                Epot[i] = Pot(self.x[i], self.y[i], self.z[i])\n",
    "                Ekin[i] = 0.5*(self.vx[i]**2+self.vy[i]**2+self.vz[i])\n",
    "        return Epot, Ekin\n",
    "    \n",
    "    def spin(self):\n",
    "        if self.Run == 0:\n",
    "            print('Spin: first run the model !')\n",
    "        else:\n",
    "            Lx = np.multiply(self.y,self.vz)-np.multiply(self.z,self.vy)\n",
    "            Ly = np.multiply(self.z,self.vx)-np.multiply(self.x,self.vz)\n",
    "            Lz = np.multiply(self.x,self.vy)-np.multiply(self.y,self.vx)\n",
    "            LL = np.sqrt(np.multiply(Lx,Lx)+np.multiply(Ly,Ly)+np.multiply(Lz,Lz))\n",
    "        return Lx, Ly, Lz, LL"
   ]
  },
  {
   "cell_type": "markdown",
   "metadata": {},
   "source": [
    "<H2>Compare the Various Integrators</H2>"
   ]
  },
  {
   "cell_type": "markdown",
   "metadata": {},
   "source": [
    "<H3>Define the Trajectory Array</H3>"
   ]
  },
  {
   "cell_type": "code",
   "execution_count": 10,
   "metadata": {},
   "outputs": [
    {
     "name": "stdout",
     "output_type": "stream",
     "text": [
      "[[[0, 0, 0, 0, 0, 0, 0, 0, 0, 0], [0, 0, 0, 0, 0, 0, 0, 0, 0, 0], [0, 0, 0, 0, 0, 0, 0, 0, 0, 0], [0, 0, 0, 0, 0, 0, 0, 0, 0, 0], [0, 0, 0, 0, 0, 0, 0, 0, 0, 0], [0, 0, 0, 0, 0, 0, 0, 0, 0, 0], [0, 0, 0, 0, 0, 0, 0, 0, 0, 0], [0, 0, 0, 0, 0, 0, 0, 0, 0, 0], [0, 0, 0, 0, 0, 0, 0, 0, 0, 0], [0, 0, 0, 0, 0, 0, 0, 0, 0, 0]], [[0, 0, 0, 0, 0, 0, 0, 0, 0, 0], [0, 0, 0, 0, 0, 0, 0, 0, 0, 0], [0, 0, 0, 0, 0, 0, 0, 0, 0, 0], [0, 0, 0, 0, 0, 0, 0, 0, 0, 0], [0, 0, 0, 0, 0, 0, 0, 0, 0, 0], [0, 0, 0, 0, 0, 0, 0, 0, 0, 0], [0, 0, 0, 0, 0, 0, 0, 0, 0, 0], [0, 0, 0, 0, 0, 0, 0, 0, 0, 0], [0, 0, 0, 0, 0, 0, 0, 0, 0, 0], [0, 0, 0, 0, 0, 0, 0, 0, 0, 0]], [[0, 0, 0, 0, 0, 0, 0, 0, 0, 0], [0, 0, 0, 0, 0, 0, 0, 0, 0, 0], [0, 0, 0, 0, 0, 0, 0, 0, 0, 0], [0, 0, 0, 0, 0, 0, 0, 0, 0, 0], [0, 0, 0, 0, 0, 0, 0, 0, 0, 0], [0, 0, 0, 0, 0, 0, 0, 0, 0, 0], [0, 0, 0, 0, 0, 0, 0, 0, 0, 0], [0, 0, 0, 0, 0, 0, 0, 0, 0, 0], [0, 0, 0, 0, 0, 0, 0, 0, 0, 0], [0, 0, 0, 0, 0, 0, 0, 0, 0, 0]], [[0, 0, 0, 0, 0, 0, 0, 0, 0, 0], [0, 0, 0, 0, 0, 0, 0, 0, 0, 0], [0, 0, 0, 0, 0, 0, 0, 0, 0, 0], [0, 0, 0, 0, 0, 0, 0, 0, 0, 0], [0, 0, 0, 0, 0, 0, 0, 0, 0, 0], [0, 0, 0, 0, 0, 0, 0, 0, 0, 0], [0, 0, 0, 0, 0, 0, 0, 0, 0, 0], [0, 0, 0, 0, 0, 0, 0, 0, 0, 0], [0, 0, 0, 0, 0, 0, 0, 0, 0, 0], [0, 0, 0, 0, 0, 0, 0, 0, 0, 0]], [[0, 0, 0, 0, 0, 0, 0, 0, 0, 0], [0, 0, 0, 0, 0, 0, 0, 0, 0, 0], [0, 0, 0, 0, 0, 0, 0, 0, 0, 0], [0, 0, 0, 0, 0, 0, 0, 0, 0, 0], [0, 0, 0, 0, 0, 0, 0, 0, 0, 0], [0, 0, 0, 0, 0, 0, 0, 0, 0, 0], [0, 0, 0, 0, 0, 0, 0, 0, 0, 0], [0, 0, 0, 0, 0, 0, 0, 0, 0, 0], [0, 0, 0, 0, 0, 0, 0, 0, 0, 0], [0, 0, 0, 0, 0, 0, 0, 0, 0, 0]], [[0, 0, 0, 0, 0, 0, 0, 0, 0, 0], [0, 0, 0, 0, 0, 0, 0, 0, 0, 0], [0, 0, 0, 0, 0, 0, 0, 0, 0, 0], [0, 0, 0, 0, 0, 0, 0, 0, 0, 0], [0, 0, 0, 0, 0, 0, 0, 0, 0, 0], [0, 0, 0, 0, 0, 0, 0, 0, 0, 0], [0, 0, 0, 0, 0, 0, 0, 0, 0, 0], [0, 0, 0, 0, 0, 0, 0, 0, 0, 0], [0, 0, 0, 0, 0, 0, 0, 0, 0, 0], [0, 0, 0, 0, 0, 0, 0, 0, 0, 0]], [[0, 0, 0, 0, 0, 0, 0, 0, 0, 0], [0, 0, 0, 0, 0, 0, 0, 0, 0, 0], [0, 0, 0, 0, 0, 0, 0, 0, 0, 0], [0, 0, 0, 0, 0, 0, 0, 0, 0, 0], [0, 0, 0, 0, 0, 0, 0, 0, 0, 0], [0, 0, 0, 0, 0, 0, 0, 0, 0, 0], [0, 0, 0, 0, 0, 0, 0, 0, 0, 0], [0, 0, 0, 0, 0, 0, 0, 0, 0, 0], [0, 0, 0, 0, 0, 0, 0, 0, 0, 0], [0, 0, 0, 0, 0, 0, 0, 0, 0, 0]], [[0, 0, 0, 0, 0, 0, 0, 0, 0, 0], [0, 0, 0, 0, 0, 0, 0, 0, 0, 0], [0, 0, 0, 0, 0, 0, 0, 0, 0, 0], [0, 0, 0, 0, 0, 0, 0, 0, 0, 0], [0, 0, 0, 0, 0, 0, 0, 0, 0, 0], [0, 0, 0, 0, 0, 0, 0, 0, 0, 0], [0, 0, 0, 0, 0, 0, 0, 0, 0, 0], [0, 0, 0, 0, 0, 0, 0, 0, 0, 0], [0, 0, 0, 0, 0, 0, 0, 0, 0, 0], [0, 0, 0, 0, 0, 0, 0, 0, 0, 0]], [[0, 0, 0, 0, 0, 0, 0, 0, 0, 0], [0, 0, 0, 0, 0, 0, 0, 0, 0, 0], [0, 0, 0, 0, 0, 0, 0, 0, 0, 0], [0, 0, 0, 0, 0, 0, 0, 0, 0, 0], [0, 0, 0, 0, 0, 0, 0, 0, 0, 0], [0, 0, 0, 0, 0, 0, 0, 0, 0, 0], [0, 0, 0, 0, 0, 0, 0, 0, 0, 0], [0, 0, 0, 0, 0, 0, 0, 0, 0, 0], [0, 0, 0, 0, 0, 0, 0, 0, 0, 0], [0, 0, 0, 0, 0, 0, 0, 0, 0, 0]], [[0, 0, 0, 0, 0, 0, 0, 0, 0, 0], [0, 0, 0, 0, 0, 0, 0, 0, 0, 0], [0, 0, 0, 0, 0, 0, 0, 0, 0, 0], [0, 0, 0, 0, 0, 0, 0, 0, 0, 0], [0, 0, 0, 0, 0, 0, 0, 0, 0, 0], [0, 0, 0, 0, 0, 0, 0, 0, 0, 0], [0, 0, 0, 0, 0, 0, 0, 0, 0, 0], [0, 0, 0, 0, 0, 0, 0, 0, 0, 0], [0, 0, 0, 0, 0, 0, 0, 0, 0, 0], [0, 0, 0, 0, 0, 0, 0, 0, 0, 0]]]\n"
     ]
    }
   ],
   "source": [
    "TR = [0,0,0,0,0,0,0,0,0,0]\n",
    "for i in range(10):\n",
    "    TR[i] = [0,0,0,0,0,0,0,0,0,0]\n",
    "    for j in range(10):\n",
    "        TR[i][j] = [0,0,0,0,0,0,0,0,0,0]\n",
    "print(TR)"
   ]
  },
  {
   "cell_type": "code",
   "execution_count": 11,
   "metadata": {},
   "outputs": [],
   "source": [
    "# Store the Array with pickle:\n",
    "import pickle\n",
    "f = open('Newtonian_Orbits_TR1.pckl', 'wb')\n",
    "pickle.dump(TR, f)\n",
    "f.close()"
   ]
  },
  {
   "cell_type": "code",
   "execution_count": 12,
   "metadata": {},
   "outputs": [],
   "source": [
    "# Read array from saved pickle file:\n",
    "import pickle\n",
    "f = open('Newtonian_Orbits_TR1.pckl', 'rb')\n",
    "TR1 = pickle.load(f)\n",
    "f.close()"
   ]
  },
  {
   "cell_type": "markdown",
   "metadata": {},
   "source": [
    "<H3>Accuracy for one revolution</H3>"
   ]
  },
  {
   "cell_type": "code",
   "execution_count": 13,
   "metadata": {},
   "outputs": [],
   "source": [
    "GM = 4.*pi**2\n",
    "d =1.\n",
    "n = 1\n",
    "jn = 0"
   ]
  },
  {
   "cell_type": "code",
   "execution_count": 14,
   "metadata": {},
   "outputs": [
    {
     "name": "stdout",
     "output_type": "stream",
     "text": [
      "------------------------------------------------------- N = 100  ----------------------------------------------------------------\n",
      "       'Method'        ' '           'x_f     '           'y_f     '        'E_f/E_i    '        'L_f/L_i    '\n",
      "'Forward Euler            '  -0.6112798437281253  -1.5995698888856063   0.6524047661155952   1.2255386125688981\n",
      "'Backward Euler           '   0.9944358774548794  -0.0803444942046115   0.9999944808617685   1.0000000000000002\n",
      "'Velocity Verlet          '   0.9974734632388311  -0.0710693217032186   0.9999999958837315   1.0000000000000004\n",
      "'4th-order Yoshida        '   0.9980217996934613  -0.0628689862958029   0.9999999999998754   1.0000000000000007\n",
      "'4th-order Runge-Kutta    '   0.9980269658376433  -0.0627860415422385   1.0000000421449802   0.9999999789275104\n"
     ]
    }
   ],
   "source": [
    "N, jN = 100, 0\n",
    "print('------------------------------------------------------- N =', N,' ----------------------------------------------------------------')\n",
    "\n",
    "h = n/(N)\n",
    "for im in range(5):\n",
    "    method = methods[im]\n",
    "    TR[jn][jN][im] = Trajectory(method, d, 0., 0., sqrt(GM/d), 0., 0., N, h)\n",
    "print(\"%15a %10a %20a %20a %20a %20a\" %('Method',' ','x_f     ','y_f     ','E_f/E_i    ','L_f/L_i    '))\n",
    "for im in range(5):\n",
    "    T = TR[jn][jN][im]\n",
    "    T.run()\n",
    "    Text = T.Method + ' '*(25-len(T.Method))\n",
    "    Ei, Ef = T.Energy[0][0]+T.Energy[1][0], T.Energy[0][-1]+T.Energy[1][-1]\n",
    "    Li, Lf = T.Spin[2][0], T.Spin[2][-1]\n",
    "    print(\"%25a %20.16f %20.16f %20.16f %20.16f\" \\\n",
    "           %(Text, T.x[-1], T.y[-1], Ef/Ei, Lf/Li))"
   ]
  },
  {
   "cell_type": "code",
   "execution_count": 15,
   "metadata": {},
   "outputs": [
    {
     "name": "stdout",
     "output_type": "stream",
     "text": [
      "------------------------------------------------------- N = 1000  ----------------------------------------------------------------\n",
      "       'Method'        ' '           'x_f     '           'y_f     '        'E_f/E_i    '        'L_f/L_i    '\n",
      "'Forward Euler            '   1.0135348470990189  -0.3638851786754468   0.9316982566604823   1.0360000049383973\n",
      "'Backward Euler           '   0.9999590450010087  -0.0064588829385756   0.9999999995960767   1.0000000000000013\n",
      "'Velocity Verlet          '   0.9999797378670431  -0.0063658658135927   1.0000000000000013   0.9999999999999974\n",
      "'4th-order Yoshida        '   0.9999802608063144  -0.0062831518984655   0.9999999999999937   1.0000000000000033\n",
      "'4th-order Runge-Kutta    '   0.9999802608584101  -0.0062831435350445   1.0000000000004279   0.9999999999997862\n"
     ]
    }
   ],
   "source": [
    "N, jN = 1000, 1\n",
    "print('------------------------------------------------------- N =', N,' ----------------------------------------------------------------')\n",
    "\n",
    "h = n/(N)\n",
    "for im in range(5):\n",
    "    method = methods[im]\n",
    "    TR[jn][jN][im] = Trajectory(method, d, 0., 0., sqrt(GM/d), 0., 0., N, h)\n",
    "print(\"%15a %10a %20a %20a %20a %20a\" %('Method',' ','x_f     ','y_f     ','E_f/E_i    ','L_f/L_i    '))\n",
    "for im in range(5):\n",
    "    T = TR[jn][jN][im]\n",
    "    T.run()\n",
    "    Text = T.Method + ' '*(25-len(T.Method))\n",
    "    Ei, Ef = T.Energy[0][0]+T.Energy[1][0], T.Energy[0][-1]+T.Energy[1][-1]\n",
    "    Li, Lf = T.Spin[2][0], T.Spin[2][-1]\n",
    "    print(\"%25a %20.16f %20.16f %20.16f %20.16f\" \\\n",
    "           %(Text, T.x[-1], T.y[-1], Ef/Ei, Lf/Li))"
   ]
  },
  {
   "cell_type": "code",
   "execution_count": 16,
   "metadata": {},
   "outputs": [
    {
     "name": "stdout",
     "output_type": "stream",
     "text": [
      "------------------------------------------------------- N = 10000  ----------------------------------------------------------------\n",
      "       'Method'        ' '           'x_f     '           'y_f     '        'E_f/E_i    '        'L_f/L_i    '\n",
      "'Forward Euler            '   1.0071617780783690  -0.0377506116401946   0.9922276067826409   1.0039089973696331\n",
      "'Backward Euler           '   0.9999996037531516  -0.0006300755526203   0.9999999999999623   0.9999999999999994\n",
      "'Velocity Verlet          '   0.9999998020880216  -0.0006291453644372   1.0000000000000271   0.9999999999999866\n",
      "'4th-order Yoshida        '   0.9999998026079002  -0.0006283184901793   1.0000000000000053   0.9999999999999974\n",
      "'4th-order Runge-Kutta    '   0.9999998026079358  -0.0006283184894059   0.9999999999999798   1.0000000000000102\n"
     ]
    }
   ],
   "source": [
    "N, jN = 10000, 2\n",
    "print('------------------------------------------------------- N =', N,' ----------------------------------------------------------------')\n",
    "\n",
    "h = n/(N)\n",
    "for im in range(5):\n",
    "    method = methods[im]\n",
    "    TR[jn][jN][im] = Trajectory(method, d, 0., 0., sqrt(GM/d), 0., 0., N, h)\n",
    "print(\"%15a %10a %20a %20a %20a %20a\" %('Method',' ','x_f     ','y_f     ','E_f/E_i    ','L_f/L_i    '))\n",
    "for im in range(5):\n",
    "    T = TR[jn][jN][im]\n",
    "    T.run()\n",
    "    Text = T.Method + ' '*(25-len(T.Method))\n",
    "    Ei, Ef = T.Energy[0][0]+T.Energy[1][0], T.Energy[0][-1]+T.Energy[1][-1]\n",
    "    Li, Lf = T.Spin[2][0], T.Spin[2][-1]\n",
    "    print(\"%25a %20.16f %20.16f %20.16f %20.16f\" \\\n",
    "           %(Text, T.x[-1], T.y[-1], Ef/Ei, Lf/Li))"
   ]
  },
  {
   "cell_type": "code",
   "execution_count": 17,
   "metadata": {},
   "outputs": [
    {
     "name": "stdout",
     "output_type": "stream",
     "text": [
      "------------------------------------------------------- N = 100000  ----------------------------------------------------------------\n",
      "       'Method'        ' '           'x_f     '           'y_f     '        'E_f/E_i    '        'L_f/L_i    '\n",
      "'Forward Euler            '   1.0007821452559542  -0.0037828073698221   0.9992116841627061   1.0003943911124638\n",
      "'Backward Euler           '   0.9999999960507071  -0.0000628494233050   0.9999999999999916   1.0000000000000042\n",
      "'Velocity Verlet          '   0.9999999980255061  -0.0000628401213602   1.0000000000000355   0.9999999999999822\n",
      "'4th-order Yoshida        '   0.9999999980261373  -0.0000628318529895   0.9999999999999453   1.0000000000000275\n",
      "'4th-order Runge-Kutta    '   0.9999999980260804  -0.0000628318531657   0.9999999999999756   1.0000000000000122\n"
     ]
    }
   ],
   "source": [
    "N, jN = 100000, 3\n",
    "print('------------------------------------------------------- N =', N,' ----------------------------------------------------------------')\n",
    "\n",
    "h = n/(N)\n",
    "for im in range(5):\n",
    "    method = methods[im]\n",
    "    TR[jn][jN][im] = Trajectory(method, d, 0., 0., sqrt(GM/d), 0., 0., N, h)\n",
    "print(\"%15a %10a %20a %20a %20a %20a\" %('Method',' ','x_f     ','y_f     ','E_f/E_i    ','L_f/L_i    '))\n",
    "for im in range(5):\n",
    "    T = TR[jn][jN][im]\n",
    "    T.run()\n",
    "    Text = T.Method + ' '*(25-len(T.Method))\n",
    "    Ei, Ef = T.Energy[0][0]+T.Energy[1][0], T.Energy[0][-1]+T.Energy[1][-1]\n",
    "    Li, Lf = T.Spin[2][0], T.Spin[2][-1]\n",
    "    print(\"%25a %20.16f %20.16f %20.16f %20.16f\" \\\n",
    "           %(Text, T.x[-1], T.y[-1], Ef/Ei, Lf/Li))"
   ]
  },
  {
   "cell_type": "markdown",
   "metadata": {},
   "source": [
    "<H3>Accuracy for 10 revolutions</H3>"
   ]
  },
  {
   "cell_type": "code",
   "execution_count": 18,
   "metadata": {},
   "outputs": [],
   "source": [
    "GM = 4.*pi**2\n",
    "d =1.\n",
    "n = 10\n",
    "jn = 1"
   ]
  },
  {
   "cell_type": "code",
   "execution_count": 19,
   "metadata": {},
   "outputs": [
    {
     "name": "stdout",
     "output_type": "stream",
     "text": [
      "------------------------------------------------------- N = 1000  ----------------------------------------------------------------\n",
      "       'Method'        ' '           'x_f     '           'y_f     '        'E_f/E_i    '        'L_f/L_i    '\n",
      "'Forward Euler            '  -0.3725779868958218   2.3996337927823790   0.3316338634476263   1.6990595582122161\n",
      "'Backward Euler           '   0.9660954003754657  -0.2359892053996362   0.9999683814392303   1.0000000000000007\n",
      "'Velocity Verlet          '   0.9894466570313166  -0.1449213999048855   0.9999999931706156   0.9999999999999959\n",
      "'4th-order Yoshida        '   0.9979770164321434  -0.0635759126240276   0.9999999999998679   1.0000000000000044\n",
      "'4th-order Runge-Kutta    '   0.9980302446318283  -0.0627277934366032   1.0000004252819610   0.9999997873590870\n"
     ]
    }
   ],
   "source": [
    "N, jN = 100*n, 0\n",
    "print('------------------------------------------------------- N =', N,' ----------------------------------------------------------------')\n",
    "\n",
    "h = n/(N)\n",
    "for im in range(5):\n",
    "    method = methods[im]\n",
    "    TR[jn][jN][im] = Trajectory(method, d, 0., 0., sqrt(GM/d), 0., 0., N, h)\n",
    "print(\"%15a %10a %20a %20a %20a %20a\" %('Method',' ','x_f     ','y_f     ','E_f/E_i    ','L_f/L_i    '))\n",
    "for im in range(5):\n",
    "    T = TR[jn][jN][im]\n",
    "    T.run()\n",
    "    Text = T.Method + ' '*(25-len(T.Method))\n",
    "    Ei, Ef = T.Energy[0][0]+T.Energy[1][0], T.Energy[0][-1]+T.Energy[1][-1]\n",
    "    Li, Lf = T.Spin[2][0], T.Spin[2][-1]\n",
    "    print(\"%25a %20.16f %20.16f %20.16f %20.16f\" \\\n",
    "           %(Text, T.x[-1], T.y[-1], Ef/Ei, Lf/Li))"
   ]
  },
  {
   "cell_type": "code",
   "execution_count": 20,
   "metadata": {},
   "outputs": [
    {
     "name": "stdout",
     "output_type": "stream",
     "text": [
      "------------------------------------------------------- N = 10000  ----------------------------------------------------------------\n",
      "       'Method'        ' '           'x_f     '           'y_f     '        'E_f/E_i    '        'L_f/L_i    '\n",
      "'Forward Euler            '   1.4243124085567831   0.4467963942471239   0.6672070108338574   1.2242095631188545\n",
      "'Backward Euler           '   0.9999443665766266  -0.0080401500036692   0.9999999994565167   1.0000000000000007\n",
      "'Velocity Verlet          '   0.9999747239212694  -0.0071099883451878   0.9999999999999888   1.0000000000000038\n",
      "'4th-order Yoshida        '   0.9999802603576595  -0.0062832233011231   1.0000000000000024   0.9999999999999986\n",
      "'4th-order Runge-Kutta    '   0.9999802608800461  -0.0062831394809474   1.0000000000042604   0.9999999999978699\n"
     ]
    }
   ],
   "source": [
    "N, jN = 1000*n, 1\n",
    "print('------------------------------------------------------- N =', N,' ----------------------------------------------------------------')\n",
    "\n",
    "h = n/(N)\n",
    "for im in range(5):\n",
    "    method = methods[im]\n",
    "    TR[jn][jN][im] = Trajectory(method, d, 0., 0., sqrt(GM/d), 0., 0., N, h)\n",
    "print(\"%15a %10a %20a %20a %20a %20a\" %('Method',' ','x_f     ','y_f     ','E_f/E_i    ','L_f/L_i    '))\n",
    "for im in range(5):\n",
    "    T = TR[jn][jN][im]\n",
    "    T.run()\n",
    "    Text = T.Method + ' '*(25-len(T.Method))\n",
    "    Ei, Ef = T.Energy[0][0]+T.Energy[1][0], T.Energy[0][-1]+T.Energy[1][-1]\n",
    "    Li, Lf = T.Spin[2][0], T.Spin[2][-1]\n",
    "    print(\"%25a %20.16f %20.16f %20.16f %20.16f\" \\\n",
    "           %(Text, T.x[-1], T.y[-1], Ef/Ei, Lf/Li))"
   ]
  },
  {
   "cell_type": "code",
   "execution_count": 21,
   "metadata": {},
   "outputs": [
    {
     "name": "stdout",
     "output_type": "stream",
     "text": [
      "------------------------------------------------------- N = 100000  ----------------------------------------------------------------\n",
      "       'Method'        ' '           'x_f     '           'y_f     '        'E_f/E_i    '        'L_f/L_i    '\n",
      "'Forward Euler            '  -1.0535610885340454   0.2045687712180532   0.9315829116426398   1.0360686042017342\n",
      "'Backward Euler           '   0.9999995904501128  -0.0006458887491823   0.9999999999999551   1.0000000000000022\n",
      "'Velocity Verlet          '   0.9999997973784973  -0.0006365868622221   1.0000000000001248   0.9999999999999378\n",
      "'4th-order Yoshida        '   0.9999998026078885  -0.0006283185002847   0.9999999999999710   1.0000000000000144\n",
      "'4th-order Runge-Kutta    '   0.9999998026079386  -0.0006283184917953   0.9999999999999273   1.0000000000000364\n"
     ]
    }
   ],
   "source": [
    "N, jN = 10000*n, 2\n",
    "print('------------------------------------------------------- N =', N,' ----------------------------------------------------------------')\n",
    "\n",
    "h = n/(N)\n",
    "for im in range(5):\n",
    "    method = methods[im]\n",
    "    TR[jn][jN][im] = Trajectory(method, d, 0., 0., sqrt(GM/d), 0., 0., N, h)\n",
    "print(\"%15a %10a %20a %20a %20a %20a\" %('Method',' ','x_f     ','y_f     ','E_f/E_i    ','L_f/L_i    '))\n",
    "for im in range(5):\n",
    "    T = TR[jn][jN][im]\n",
    "    T.run()\n",
    "    Text = T.Method + ' '*(25-len(T.Method))\n",
    "    Ei, Ef = T.Energy[0][0]+T.Energy[1][0], T.Energy[0][-1]+T.Energy[1][-1]\n",
    "    Li, Lf = T.Spin[2][0], T.Spin[2][-1]\n",
    "    print(\"%25a %20.16f %20.16f %20.16f %20.16f\" \\\n",
    "           %(Text, T.x[-1], T.y[-1], Ef/Ei, Lf/Li))"
   ]
  },
  {
   "cell_type": "code",
   "execution_count": 23,
   "metadata": {},
   "outputs": [
    {
     "name": "stdout",
     "output_type": "stream",
     "text": [
      "------------------------------------------------------- N = 1000000  ----------------------------------------------------------------\n",
      "       'Method'        ' '           'x_f     '           'y_f     '        'E_f/E_i    '        'L_f/L_i    '\n",
      "'Forward Euler            '   0.9404667418073900  -0.3623826931645138   0.9922267525813733   1.0039094296630588\n",
      "'Backward Euler           '   0.9999999960375127  -0.0000630075555466   0.9999999999999412   1.0000000000000295\n",
      "'Velocity Verlet          '   0.9999999980207850  -0.0000629145343344   1.0000000000001634   0.9999999999999183\n",
      "'4th-order Yoshida        '   0.9999999980260103  -0.0000628318531069   1.0000000000000606   0.9999999999999698\n",
      "'4th-order Runge-Kutta    '   0.9999999980260844  -0.0000628318531987   1.0000000000000286   0.9999999999999856\n"
     ]
    }
   ],
   "source": [
    "N, jN = 100000*n, 3\n",
    "print('------------------------------------------------------- N =', N,' ----------------------------------------------------------------')\n",
    "\n",
    "h = n/(N)\n",
    "for im in range(5):\n",
    "    method = methods[im]\n",
    "    TR[jn][jN][im] = Trajectory(method, d, 0., 0., sqrt(GM/d), 0., 0., N, h)\n",
    "print(\"%15a %10a %20a %20a %20a %20a\" %('Method',' ','x_f     ','y_f     ','E_f/E_i    ','L_f/L_i    '))\n",
    "for im in range(5):\n",
    "    T = TR[jn][jN][im]\n",
    "    T.run()\n",
    "    Text = T.Method + ' '*(25-len(T.Method))\n",
    "    Ei, Ef = T.Energy[0][0]+T.Energy[1][0], T.Energy[0][-1]+T.Energy[1][-1]\n",
    "    Li, Lf = T.Spin[2][0], T.Spin[2][-1]\n",
    "    print(\"%25a %20.16f %20.16f %20.16f %20.16f\" \\\n",
    "           %(Text, T.x[-1], T.y[-1], Ef/Ei, Lf/Li))"
   ]
  },
  {
   "cell_type": "markdown",
   "metadata": {},
   "source": [
    "<H3>Accuracy for 10'000 revolutions</H3>"
   ]
  },
  {
   "cell_type": "code",
   "execution_count": 25,
   "metadata": {},
   "outputs": [],
   "source": [
    "GM = 4.*pi**2\n",
    "d =1.\n",
    "n = 10000\n",
    "jn = 3"
   ]
  },
  {
   "cell_type": "code",
   "execution_count": 26,
   "metadata": {},
   "outputs": [
    {
     "name": "stdout",
     "output_type": "stream",
     "text": [
      "------------------------------------------------------- N = 1000000  ----------------------------------------------------------------\n",
      "       'Method'        ' '           'x_f     '           'y_f     '        'E_f/E_i    '        'L_f/L_i    '\n",
      "'Forward Euler            '  11.6501336281610772 -101.2111222165589055   0.0150943301103951   4.4336805474351184\n",
      "'Backward Euler           '   0.8515321557330108   0.4883139120309671   0.9995821784235814   0.9999999999999070\n",
      "'Velocity Verlet          '   0.6207950905919022  -0.7857471471169624   0.9999972602477687   0.9999999999998175\n",
      "'4th-order Yoshida        '   0.6600733218327114  -0.7512012220092364   0.9999999999998798   0.9999999999998748\n",
      "'4th-order Runge-Kutta    '   0.3422663369849623   0.9391488915501730   1.0004266139024480   0.9997867612742108\n"
     ]
    }
   ],
   "source": [
    "N, jN = 100*n, 0\n",
    "print('------------------------------------------------------- N =', N,' ----------------------------------------------------------------')\n",
    "\n",
    "h = n/(N)\n",
    "for im in range(5):\n",
    "    method = methods[im]\n",
    "    TR[jn][jN][im] = Trajectory(method, d, 0., 0., sqrt(GM/d), 0., 0., N, h)\n",
    "print(\"%15a %10a %20a %20a %20a %20a\" %('Method',' ','x_f     ','y_f     ','E_f/E_i    ','L_f/L_i    '))\n",
    "for im in range(5):\n",
    "    T = TR[jn][jN][im]\n",
    "    T.run()\n",
    "    Text = T.Method + ' '*(25-len(T.Method))\n",
    "    Ei, Ef = T.Energy[0][0]+T.Energy[1][0], T.Energy[0][-1]+T.Energy[1][-1]\n",
    "    Li, Lf = T.Spin[2][0], T.Spin[2][-1]\n",
    "    print(\"%25a %20.16f %20.16f %20.16f %20.16f\" \\\n",
    "           %(Text, T.x[-1], T.y[-1], Ef/Ei, Lf/Li))"
   ]
  },
  {
   "cell_type": "code",
   "execution_count": 27,
   "metadata": {},
   "outputs": [
    {
     "name": "stdout",
     "output_type": "stream",
     "text": [
      "------------------------------------------------------- N = 10000000  ----------------------------------------------------------------\n",
      "       'Method'        ' '           'x_f     '           'y_f     '        'E_f/E_i    '        'L_f/L_i    '\n",
      "'Forward Euler            '  -4.5147187112952070 -13.4657181832182218   0.0747896465549851   3.6487148515139918\n",
      "'Backward Euler           '  -0.1943823219236544  -0.9780207701470638   0.9999883130382319   0.9999999999999830\n",
      "'Velocity Verlet          '   0.6725815253433196  -0.7400233360290822   0.9999999999954795   1.0000000000000586\n",
      "'4th-order Yoshida        '   0.9999797595375849  -0.0063624298097207   1.0000000000006291   0.9999999999996856\n",
      "'4th-order Runge-Kutta    '   0.9999815276298873  -0.0060774874007898   1.0000000042728248   0.9999999978635876\n"
     ]
    }
   ],
   "source": [
    "N, jN = 1000*n, 1\n",
    "print('------------------------------------------------------- N =', N,' ----------------------------------------------------------------')\n",
    "\n",
    "h = n/(N)\n",
    "for im in range(5):\n",
    "    method = methods[im]\n",
    "    TR[jn][jN][im] = Trajectory(method, d, 0., 0., sqrt(GM/d), 0., 0., N, h)\n",
    "print(\"%15a %10a %20a %20a %20a %20a\" %('Method',' ','x_f     ','y_f     ','E_f/E_i    ','L_f/L_i    '))\n",
    "for im in range(5):\n",
    "    T = TR[jn][jN][im]\n",
    "    T.run()\n",
    "    Text = T.Method + ' '*(25-len(T.Method))\n",
    "    Ei, Ef = T.Energy[0][0]+T.Energy[1][0], T.Energy[0][-1]+T.Energy[1][-1]\n",
    "    Li, Lf = T.Spin[2][0], T.Spin[2][-1]\n",
    "    print(\"%25a %20.16f %20.16f %20.16f %20.16f\" \\\n",
    "           %(Text, T.x[-1], T.y[-1], Ef/Ei, Lf/Li))"
   ]
  },
  {
   "cell_type": "markdown",
   "metadata": {},
   "source": [
    "<H3>Accuracy for 1'000'000 revolutions</H3>"
   ]
  },
  {
   "cell_type": "code",
   "execution_count": 216,
   "metadata": {},
   "outputs": [],
   "source": [
    "GM = 4.*pi**2\n",
    "d =1.\n",
    "n = 1000000\n",
    "jn = 5"
   ]
  },
  {
   "cell_type": "code",
   "execution_count": 217,
   "metadata": {},
   "outputs": [
    {
     "name": "stdout",
     "output_type": "stream",
     "text": [
      "------------------------------------------------------- N = 100000000  ----------------------------------------------------------------\n",
      "       'Method'        ' '           'x_f     '           'y_f     '        'E_f/E_i    '        'L_f/L_i    '\n",
      "'Forward Euler            ' -7806.7829470574415609 -40779.6365087782760384   0.0000162503538037   4.9847696554812506\n",
      "'Backward Euler           '  -0.9798416576898820  -0.0231100996856034   0.9994957294446954   0.9999999999899234\n",
      "'Velocity Verlet          '  -0.5385260273692329  -0.8438286155881376   0.9999979731940438   0.9999999999952822\n",
      "'4th-order Yoshida        '  -0.9741183435209457   0.2260680292441937   0.9999999999256981   0.9999999999998875\n",
      "'4th-order Runge-Kutta    '  -0.9315049257139210  -0.1747518294069741   1.0551243733157785   0.9735273844344098\n"
     ]
    }
   ],
   "source": [
    "N, jN = 100*n, 0\n",
    "print('------------------------------------------------------- N =', N,' ----------------------------------------------------------------')\n",
    "\n",
    "h = n/(N)\n",
    "for im in range(5):\n",
    "    method = methods[im]\n",
    "    TR[jn][jN][im] = Trajectory(method, d, 0., 0., sqrt(GM/d), 0., 0., N, h)\n",
    "print(\"%15a %10a %20a %20a %20a %20a\" %('Method',' ','x_f     ','y_f     ','E_f/E_i    ','L_f/L_i    '))\n",
    "for im in range(5):\n",
    "    T = TR[jn][jN][im]\n",
    "    T.run()\n",
    "    Text = T.Method + ' '*(25-len(T.Method))\n",
    "    Ei, Ef = T.Energy[0][0]+T.Energy[1][0], T.Energy[0][-1]+T.Energy[1][-1]\n",
    "    Li, Lf = T.Spin[2][0], T.Spin[2][-1]\n",
    "    print(\"%25a %20.16f %20.16f %20.16f %20.16f\" \\\n",
    "           %(Text, T.x[-1], T.y[-1], Ef/Ei, Lf/Li))"
   ]
  },
  {
   "cell_type": "code",
   "execution_count": null,
   "metadata": {},
   "outputs": [
    {
     "name": "stdout",
     "output_type": "stream",
     "text": [
      "------------------------------------------------------- N = 1000000000  ----------------------------------------------------------------\n",
      "       'Method'        ' '           'x_f     '           'y_f     '        'E_f/E_i    '        'L_f/L_i    '\n"
     ]
    }
   ],
   "source": [
    "N, jN = 1000*n, 1\n",
    "print('------------------------------------------------------- N =', N,' ----------------------------------------------------------------')\n",
    "\n",
    "h = n/(N)\n",
    "#for im in range(5):\n",
    "for im in [2]:\n",
    "    method = methods[im]\n",
    "    TR[jn][jN][im] = Trajectory(method, d, 0., 0., sqrt(GM/d), 0., 0., N, h)\n",
    "print(\"%15a %10a %20a %20a %20a %20a\" %('Method',' ','x_f     ','y_f     ','E_f/E_i    ','L_f/L_i    '))\n",
    "#for im in range(5):\n",
    "for im in [2]:\n",
    "    T = TR[jn][jN][im]\n",
    "    T.run()\n",
    "    Text = T.Method + ' '*(25-len(T.Method))\n",
    "    Ei, Ef = T.Energy[0][0]+T.Energy[1][0], T.Energy[0][-1]+T.Energy[1][-1]\n",
    "    Li, Lf = T.Spin[2][0], T.Spin[2][-1]\n",
    "    print(\"%25a %20.16f %20.16f %20.16f %20.16f\" \\\n",
    "           %(Text, T.x[-1], T.y[-1], Ef/Ei, Lf/Li))"
   ]
  },
  {
   "cell_type": "markdown",
   "metadata": {},
   "source": [
    "<H2>Check the System</H2>"
   ]
  },
  {
   "cell_type": "code",
   "execution_count": 18,
   "metadata": {},
   "outputs": [],
   "source": [
    "GM = 4.*pi**2 #con unidades (UA)^3/((Msol)^2*(year))\n",
    "d =1.\n",
    "n = 1\n",
    "N = 100\n",
    "h = n/(N)\n",
    "#T1 = Trajectory('RungeKutta', d, 0., 0., sqrt(GM/d), 0., 0., N, h)\n",
    "T1 = Trajectory('Yoshida', d, 0., 0., sqrt(GM/d), 0., 0., N, h)"
   ]
  },
  {
   "cell_type": "code",
   "execution_count": 19,
   "metadata": {},
   "outputs": [
    {
     "name": "stdout",
     "output_type": "stream",
     "text": [
      "Trajectory has not yet been run !\n"
     ]
    },
    {
     "data": {
      "text/plain": [
       "'No comment'"
      ]
     },
     "execution_count": 19,
     "metadata": {},
     "output_type": "execute_result"
    }
   ],
   "source": [
    "T1.info()\n",
    "T1.Comment"
   ]
  },
  {
   "cell_type": "code",
   "execution_count": 20,
   "metadata": {},
   "outputs": [],
   "source": [
    "T1.run()"
   ]
  },
  {
   "cell_type": "code",
   "execution_count": 21,
   "metadata": {},
   "outputs": [
    {
     "name": "stdout",
     "output_type": "stream",
     "text": [
      "This is a first trial !\n"
     ]
    }
   ],
   "source": [
    "T1.comment('This is a first trial !')\n",
    "#comment = T1.comment\n",
    "print(T1.Comment)"
   ]
  },
  {
   "cell_type": "code",
   "execution_count": 22,
   "metadata": {},
   "outputs": [
    {
     "name": "stdout",
     "output_type": "stream",
     "text": [
      "Method used: 4th-order Yoshida\n",
      "Number of steps and step size = 100 0.01\n",
      "Initial position = [1. 0. 0.]\n",
      "Initial velocity = [0.         6.28318531 0.        ]\n",
      "Final position   = [0.9980217996934613, -0.06286898629580286, 0.0]\n",
      "Final velocity   = [0.39501527661188673, 6.270755908427925, 0.0]\n"
     ]
    }
   ],
   "source": [
    "T1.info()"
   ]
  },
  {
   "cell_type": "code",
   "execution_count": 40,
   "metadata": {
    "scrolled": false
   },
   "outputs": [],
   "source": [
    "#print(T1.Energy[0])\n",
    "#print(T1.Energy[1])\n",
    "#print(np.add(T1.Energy[0],T1.Energy[1]))"
   ]
  },
  {
   "cell_type": "code",
   "execution_count": 41,
   "metadata": {},
   "outputs": [],
   "source": [
    "#print(T1.Spin[0])\n",
    "#print(T1.Spin[1])\n",
    "#print(T1.Spin[2])\n",
    "#print(T1.Spin[3])"
   ]
  },
  {
   "cell_type": "markdown",
   "metadata": {},
   "source": [
    "<H2>Run It !</H2>"
   ]
  },
  {
   "cell_type": "code",
   "execution_count": 37,
   "metadata": {},
   "outputs": [
    {
     "name": "stdout",
     "output_type": "stream",
     "text": [
      "1.0 0.9999645258437326\n",
      "0.0 -0.0084232764761705\n",
      "0.0 0.0\n"
     ]
    }
   ],
   "source": [
    "GM = 4.*pi**2 #con unidades (UA)^3/((Msol)^2*(year))\n",
    "d =1.\n",
    "n = 1.       # numero total de revoluciones\n",
    "N = 100   # número de puntos \n",
    "h = n/(N-1)\n",
    "\n",
    "#x,vx,y,vy,z,vz = Yoshida(d,0.,0.,1.*sqrt(GM/d),0.,0.,N,h)\n",
    "#x,vx,y,vy,z,vz = RungeKutta(d,0.,0.,1.*sqrt(GM/d),0.,0.,N,h)\n",
    "x,vx,y,vy,z,vz = Verlet_1(d,0.,0.,1.*sqrt(GM/d),0.,0.,N,h)\n",
    "#x,vx,y,vy,z,vz = Euler_0(d,0.,0.,sqrt(GM/d),0.,0.,N,h)\n",
    "#x,vx,y,vy,z,vz = Euler_2(d,0.,0.,sqrt(GM/d),0.,0.,N,h)\n",
    "\n",
    "print(x[0],x[N-1])\n",
    "print(y[0],y[N-1])\n",
    "print(z[0],z[N-1])"
   ]
  },
  {
   "cell_type": "code",
   "execution_count": 38,
   "metadata": {},
   "outputs": [],
   "source": [
    "x1 = np.copy(x)\n",
    "y1 = np.copy(y)\n",
    "z1 = np.copy(z)"
   ]
  },
  {
   "cell_type": "code",
   "execution_count": 39,
   "metadata": {},
   "outputs": [],
   "source": [
    "x2 = np.copy(x)\n",
    "y2 = np.copy(y)\n",
    "z2 = np.copy(z)"
   ]
  },
  {
   "cell_type": "code",
   "execution_count": 40,
   "metadata": {},
   "outputs": [],
   "source": [
    "x3 = np.copy(x)\n",
    "y3 = np.copy(y)\n",
    "z3 = np.copy(z)"
   ]
  },
  {
   "cell_type": "code",
   "execution_count": 41,
   "metadata": {},
   "outputs": [
    {
     "data": {
      "image/png": "[encoded data removed]",
      "text/plain": [
       "<Figure size 700x700 with 1 Axes>"
      ]
     },
     "metadata": {},
     "output_type": "display_data"
    }
   ],
   "source": [
    "plt.figure(figsize=(7,7))\n",
    "#plt.xlim(0.99,1.01)\n",
    "#plt.ylim(-0.01,0.01)\n",
    "j=1\n",
    "plt.scatter(x1[::j],y1[::j], marker='o', color='blue')\n",
    "plt.scatter(x2[::j],y2[::j], marker='.', s=0.01, color='red')\n",
    "plt.scatter(x3[::j],y3[::j], marker='.', s=0.01, color='green')\n",
    "plt.show()"
   ]
  },
  {
   "cell_type": "code",
   "execution_count": 45,
   "metadata": {
    "scrolled": false
   },
   "outputs": [
    {
     "data": {
      "image/png": "[encoded data removed]",
      "text/plain": [
       "<Figure size 700x700 with 1 Axes>"
      ]
     },
     "metadata": {},
     "output_type": "display_data"
    }
   ],
   "source": [
    "plt.figure(figsize=(7,7))\n",
    "#plt.xlim(0.999,1.001)\n",
    "#plt.ylim(-0.001,0.001)\n",
    "j=10\n",
    "i1=10000\n",
    "i2=i1+1000\n",
    "plt.scatter(x[i1:i2:j],y[i1:i2:j], s=5., color='blue')\n",
    "i3=90000\n",
    "i4=i3+1000\n",
    "plt.scatter(x[i3:i4:j],y[i3:i4:j], s=0.1, color='red')\n",
    "plt.scatter(x2,y2, s=0.75, color='red')\n",
    "plt.show()"
   ]
  },
  {
   "cell_type": "code",
   "execution_count": 31,
   "metadata": {
    "scrolled": false
   },
   "outputs": [
    {
     "ename": "NameError",
     "evalue": "name 'Kt' is not defined",
     "output_type": "error",
     "traceback": [
      "\u001b[0;31m---------------------------------------------------------------------------\u001b[0m",
      "\u001b[0;31mNameError\u001b[0m                                 Traceback (most recent call last)",
      "Cell \u001b[0;32mIn[31], line 9\u001b[0m\n\u001b[1;32m      7\u001b[0m plt\u001b[38;5;241m.\u001b[39mfigure(figsize\u001b[38;5;241m=\u001b[39m(\u001b[38;5;241m10\u001b[39m,\u001b[38;5;241m5\u001b[39m))\n\u001b[1;32m      8\u001b[0m plt\u001b[38;5;241m.\u001b[39mtitle(\u001b[38;5;124m'\u001b[39m\u001b[38;5;124mEnergía medida en un lapso de 4 revoluciones\u001b[39m\u001b[38;5;124m'\u001b[39m)\n\u001b[0;32m----> 9\u001b[0m plt\u001b[38;5;241m.\u001b[39mplot(t,Kt,\u001b[38;5;124m'\u001b[39m\u001b[38;5;124m.\u001b[39m\u001b[38;5;124m'\u001b[39m,label\u001b[38;5;241m=\u001b[39m\u001b[38;5;124m'\u001b[39m\u001b[38;5;124mEnergía cinética\u001b[39m\u001b[38;5;124m'\u001b[39m)\n\u001b[1;32m     10\u001b[0m plt\u001b[38;5;241m.\u001b[39mplot(t,u,\u001b[38;5;124m'\u001b[39m\u001b[38;5;124m.\u001b[39m\u001b[38;5;124m'\u001b[39m,label\u001b[38;5;241m=\u001b[39m\u001b[38;5;124m'\u001b[39m\u001b[38;5;124mEnergía potencial\u001b[39m\u001b[38;5;124m'\u001b[39m)\n\u001b[1;32m     11\u001b[0m plt\u001b[38;5;241m.\u001b[39mplot(t,Kt\u001b[38;5;241m+\u001b[39mu,\u001b[38;5;124m'\u001b[39m\u001b[38;5;124m.\u001b[39m\u001b[38;5;124m'\u001b[39m,label\u001b[38;5;241m=\u001b[39m\u001b[38;5;124m'\u001b[39m\u001b[38;5;124mEnergía total\u001b[39m\u001b[38;5;124m'\u001b[39m)\n",
      "\u001b[0;31mNameError\u001b[0m: name 'Kt' is not defined"
     ]
    },
    {
     "data": {
      "image/png": "[encoded data removed]",
      "text/plain": [
       "<Figure size 1000x500 with 1 Axes>"
      ]
     },
     "metadata": {},
     "output_type": "display_data"
    }
   ],
   "source": [
    "t = np.linspace(0,N,N)\n",
    "u = []\n",
    "for x in t:\n",
    "    U = lambda x: -GM/d \n",
    "    u.append(U(x))\n",
    "\n",
    "plt.figure(figsize=(10,5))\n",
    "plt.title('Energía medida en un lapso de 4 revoluciones')\n",
    "plt.plot(t,Kt,'.',label='Energía cinética')\n",
    "plt.plot(t,u,'.',label='Energía potencial')\n",
    "plt.plot(t,Kt+u,'.',label='Energía total')\n",
    "plt.xlabel('Tiempo $t$ [1 año/112]')\n",
    "plt.ylabel('Energía')\n",
    "plt.legend()\n",
    "plt.show()"
   ]
  },
  {
   "cell_type": "code",
   "execution_count": null,
   "metadata": {},
   "outputs": [],
   "source": []
  }
 ],
 "metadata": {
  "kernelspec": {
   "display_name": "Python 3",
   "language": "python",
   "name": "python3"
  },
  "language_info": {
   "codemirror_mode": {
    "name": "ipython",
    "version": 3
   },
   "file_extension": ".py",
   "mimetype": "text/x-python",
   "name": "python",
   "nbconvert_exporter": "python",
   "pygments_lexer": "ipython3",
   "version": "3.11.7"
  }
 },
 "nbformat": 4,
 "nbformat_minor": 2
}
